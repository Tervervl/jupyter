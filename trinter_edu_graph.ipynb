{
 "cells": [
  {
   "cell_type": "code",
   "execution_count": 29,
   "metadata": {},
   "outputs": [],
   "source": [
    "from tkinter import *\n",
    "root = Tk()\n",
    "\n",
    "c = Canvas(root, width=200, height=200, bg='white')\n",
    "c.pack()\n",
    "\n",
    "# c.create_line(10, 10, 190, 50)\n",
    "\n",
    "# c.create_line(100, 180, 100, 60, fill='green',\n",
    "#                 width=5, arrow=LAST, dash=(10, 2),\n",
    "#                 activefill='lightgreen',\n",
    "#                 arrowshape=\"10 20 10\")\n",
    "\n",
    "# c.create_rectangle(10, 10, 190, 60)\n",
    "\n",
    "# c.create_rectangle(60, 80, 140, 190, fill='yellow', outline='green',\n",
    "#                     width=3, activedash=(5, 4))\n",
    "# c.create_polygon(100, 10, 20, 90, 180, 90)\n",
    "\n",
    "# c.create_polygon((40, 110), (160, 110), (190, 180), (10, 180),\n",
    "#                 fill='orange', outline='black')\n",
    "# c.create_oval(50, 10, 150, 110, width=2)\n",
    "# c.create_oval(10, 120, 190, 190, fill='grey70', outline='white')\n",
    "\n",
    "c.create_oval(10, 10, 190, 190, fill='lightgrey', outline='white')\n",
    "c.create_arc(10, 10, 190, 190, start=0, extent=45, fill='red')\n",
    "c.create_arc(10, 10, 190, 190, start=180, extent=25, fill='orange')\n",
    "c.create_arc(10, 10, 190, 190, start=240, extent=100, style=CHORD, fill='green')\n",
    "c.create_arc(10, 10, 190, 190, start=160, extent=-70, style=ARC, outline='darkblue', width=5)\n",
    "\n",
    "c.create_text(100, 100, text=\"Hello World,\\nPython\\nand Tk\",\n",
    "                justify=CENTER, font=\"Verdana 14\")\n",
    "c.create_text(200, 200, text=\"About this\",\n",
    "                anchor=SE, fill=\"grey\")\n",
    "root.mainloop()"
   ]
  }
 ],
 "metadata": {
  "kernelspec": {
   "display_name": "Python 3",
   "language": "python",
   "name": "python3"
  },
  "language_info": {
   "codemirror_mode": {
    "name": "ipython",
    "version": 3
   },
   "file_extension": ".py",
   "mimetype": "text/x-python",
   "name": "python",
   "nbconvert_exporter": "python",
   "pygments_lexer": "ipython3",
   "version": "3.8.2"
  }
 },
 "nbformat": 4,
 "nbformat_minor": 4
}
