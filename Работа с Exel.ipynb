{
 "cells": [
  {
   "cell_type": "code",
   "execution_count": 1,
   "metadata": {},
   "outputs": [],
   "source": [
    "import pandas as pd\n",
    "import numpy as np"
   ]
  },
  {
   "cell_type": "code",
   "execution_count": 2,
   "metadata": {},
   "outputs": [],
   "source": [
    "with open(\"C:\\\\Users\\\\vlad\\Desktop\\\\Контроль задолженности ИП Акулова.xlsx\", 'rb') as f:\n",
    "    book = pd.read_excel(f)"
   ]
  },
  {
   "cell_type": "code",
   "execution_count": 3,
   "metadata": {},
   "outputs": [
    {
     "data": {
      "text/plain": [
       "array([['За проданный товар на счет ООО \"Термотехника\"', 113052.64],\n",
       "       ['Долг за фильтра на счет Термотехники 2', 135832.9],\n",
       "       ['Оплата за транспортные услуги автопарка', 0.0],\n",
       "       ['Амортизация ОС в пав.№13 и пав.№23', 2632.87],\n",
       "       ['Долг КПР за товар', 45585.75],\n",
       "       ['Итого:', 251518.40999999997]], dtype=object)"
      ]
     },
     "execution_count": 3,
     "metadata": {},
     "output_type": "execute_result"
    }
   ],
   "source": [
    "book.values"
   ]
  },
  {
   "cell_type": "code",
   "execution_count": 4,
   "metadata": {},
   "outputs": [
    {
     "name": "stdout",
     "output_type": "stream",
     "text": [
      "<class 'pandas.core.frame.DataFrame'>\n",
      "RangeIndex: 6 entries, 0 to 5\n",
      "Data columns (total 2 columns):\n",
      " #   Column  Non-Null Count  Dtype  \n",
      "---  ------  --------------  -----  \n",
      " 0   Статья  6 non-null      object \n",
      " 1   Сумма   6 non-null      float64\n",
      "dtypes: float64(1), object(1)\n",
      "memory usage: 136.0+ bytes\n"
     ]
    }
   ],
   "source": [
    "book.info()"
   ]
  },
  {
   "cell_type": "code",
   "execution_count": 9,
   "metadata": {},
   "outputs": [
    {
     "data": {
      "text/html": [
       "<div>\n",
       "<style scoped>\n",
       "    .dataframe tbody tr th:only-of-type {\n",
       "        vertical-align: middle;\n",
       "    }\n",
       "\n",
       "    .dataframe tbody tr th {\n",
       "        vertical-align: top;\n",
       "    }\n",
       "\n",
       "    .dataframe thead th {\n",
       "        text-align: right;\n",
       "    }\n",
       "</style>\n",
       "<table border=\"1\" class=\"dataframe\">\n",
       "  <thead>\n",
       "    <tr style=\"text-align: right;\">\n",
       "      <th></th>\n",
       "      <th>Статья</th>\n",
       "      <th>Сумма</th>\n",
       "    </tr>\n",
       "  </thead>\n",
       "  <tbody>\n",
       "    <tr>\n",
       "      <th>0</th>\n",
       "      <td>За проданный товар на счет ООО \"Термотехника\"</td>\n",
       "      <td>113052.64</td>\n",
       "    </tr>\n",
       "    <tr>\n",
       "      <th>1</th>\n",
       "      <td>За проданный товар на счет ООО \"Термотехника\"Д...</td>\n",
       "      <td>248885.54</td>\n",
       "    </tr>\n",
       "    <tr>\n",
       "      <th>2</th>\n",
       "      <td>За проданный товар на счет ООО \"Термотехника\"Д...</td>\n",
       "      <td>248885.54</td>\n",
       "    </tr>\n",
       "    <tr>\n",
       "      <th>3</th>\n",
       "      <td>За проданный товар на счет ООО \"Термотехника\"Д...</td>\n",
       "      <td>251518.41</td>\n",
       "    </tr>\n",
       "    <tr>\n",
       "      <th>4</th>\n",
       "      <td>За проданный товар на счет ООО \"Термотехника\"Д...</td>\n",
       "      <td>297104.16</td>\n",
       "    </tr>\n",
       "    <tr>\n",
       "      <th>5</th>\n",
       "      <td>За проданный товар на счет ООО \"Термотехника\"Д...</td>\n",
       "      <td>548622.57</td>\n",
       "    </tr>\n",
       "  </tbody>\n",
       "</table>\n",
       "</div>"
      ],
      "text/plain": [
       "                                              Статья      Сумма\n",
       "0      За проданный товар на счет ООО \"Термотехника\"  113052.64\n",
       "1  За проданный товар на счет ООО \"Термотехника\"Д...  248885.54\n",
       "2  За проданный товар на счет ООО \"Термотехника\"Д...  248885.54\n",
       "3  За проданный товар на счет ООО \"Термотехника\"Д...  251518.41\n",
       "4  За проданный товар на счет ООО \"Термотехника\"Д...  297104.16\n",
       "5  За проданный товар на счет ООО \"Термотехника\"Д...  548622.57"
      ]
     },
     "execution_count": 9,
     "metadata": {},
     "output_type": "execute_result"
    }
   ],
   "source": [
    "book.cumsum(axis=0)"
   ]
  },
  {
   "cell_type": "code",
   "execution_count": 37,
   "metadata": {},
   "outputs": [],
   "source": [
    "summa = book.loc[:4,\"Сумма\"]"
   ]
  },
  {
   "cell_type": "code",
   "execution_count": 39,
   "metadata": {},
   "outputs": [
    {
     "data": {
      "text/plain": [
       "297104.16"
      ]
     },
     "execution_count": 39,
     "metadata": {},
     "output_type": "execute_result"
    }
   ],
   "source": [
    "np.sum(summa)"
   ]
  }
 ],
 "metadata": {
  "kernelspec": {
   "display_name": "Python 3",
   "language": "python",
   "name": "python3"
  },
  "language_info": {
   "codemirror_mode": {
    "name": "ipython",
    "version": 3
   },
   "file_extension": ".py",
   "mimetype": "text/x-python",
   "name": "python",
   "nbconvert_exporter": "python",
   "pygments_lexer": "ipython3",
   "version": "3.8.2"
  }
 },
 "nbformat": 4,
 "nbformat_minor": 4
}
