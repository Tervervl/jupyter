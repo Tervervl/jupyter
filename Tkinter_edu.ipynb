{
 "cells": [
  {
   "cell_type": "code",
   "execution_count": 10,
   "metadata": {},
   "outputs": [],
   "source": [
    "from tkinter import *\n",
    " \n",
    "class Block:\n",
    "    def __init__(self, master):\n",
    "        self.e = Entry(master, width=20)\n",
    "        self.b = Button(master, text=\"Преобразовать\")\n",
    "        self.l = Label(master, bg='black', fg='white', width=20)\n",
    "        self.e.pack()\n",
    "        self.b.pack()\n",
    "        self.l.pack()\n",
    "    def setFunc(self, func):\n",
    "        self.b['command'] = eval('self.' + func)\t\n",
    "    def strToSortlist(self):\n",
    "        s = self.e.get()\n",
    "        s = s.split()\n",
    "        s.sort()\n",
    "        self.l['text'] = ' '.join(s)\n",
    "    def strReverse(self):\n",
    "        s = self.e.get()\n",
    "        s = s.split()\n",
    "        s.reverse()\n",
    "        self.l['text'] = ' '.join(s)\n",
    " \n",
    "root = Tk()\n",
    "root.title = \"Заголовок окна\"\n",
    " \n",
    "first_block = Block(root)\n",
    "first_block.setFunc('strToSortlist')\n",
    " \n",
    "second_block = Block(root)\n",
    "second_block.setFunc('strReverse')\n",
    " \n",
    "root.mainloop()"
   ]
  }
 ],
 "metadata": {
  "kernelspec": {
   "display_name": "Python 3",
   "language": "python",
   "name": "python3"
  },
  "language_info": {
   "codemirror_mode": {
    "name": "ipython",
    "version": 3
   },
   "file_extension": ".py",
   "mimetype": "text/x-python",
   "name": "python",
   "nbconvert_exporter": "python",
   "pygments_lexer": "ipython3",
   "version": "3.8.2"
  }
 },
 "nbformat": 4,
 "nbformat_minor": 4
}
