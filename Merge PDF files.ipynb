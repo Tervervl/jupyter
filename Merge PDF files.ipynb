{
 "cells": [
  {
   "cell_type": "code",
   "execution_count": 10,
   "metadata": {},
   "outputs": [],
   "source": [
    "import os\n",
    "import PyPDF2\n",
    "\n",
    "def create_pdf():\n",
    "    directory = \"D:\\Договор поручительства\"\n",
    "    #Получаем список файлов в переменную files \n",
    "    files = os.listdir(directory) \n",
    "    merger = PyPDF2.PdfFileMerger()\n",
    "    \n",
    "    for filename in files:\n",
    "        merger.append(fileobj=open(os.path.join(directory,filename),'rb'))\n",
    "    \n",
    "    merger.write(open(os.path.join(directory,'book.pdf'), 'wb'))"
   ]
  },
  {
   "cell_type": "code",
   "execution_count": 11,
   "metadata": {},
   "outputs": [],
   "source": [
    "create_pdf()"
   ]
  }
 ],
 "metadata": {
  "kernelspec": {
   "display_name": "Python 3",
   "language": "python",
   "name": "python3"
  },
  "language_info": {
   "codemirror_mode": {
    "name": "ipython",
    "version": 3
   },
   "file_extension": ".py",
   "mimetype": "text/x-python",
   "name": "python",
   "nbconvert_exporter": "python",
   "pygments_lexer": "ipython3",
   "version": "3.8.2"
  }
 },
 "nbformat": 4,
 "nbformat_minor": 4
}
